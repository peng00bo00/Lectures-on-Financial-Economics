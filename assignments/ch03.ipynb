{
 "cells": [
  {
   "cell_type": "code",
   "execution_count": 1,
   "metadata": {},
   "outputs": [],
   "source": [
    "import numpy_financial as npf\n",
    "from typing import List"
   ]
  },
  {
   "cell_type": "markdown",
   "metadata": {},
   "source": [
    "## Q3.1"
   ]
  },
  {
   "cell_type": "markdown",
   "metadata": {},
   "source": [
    "我们可以使用[numpy-financial](https://numpy.org/numpy-financial/latest/index.html)库来直接计算现金流的IRR。这里再实现一个简单的`checkFlow()`函数检查一下现金流在给定IRR下是否等于现值PV。"
   ]
  },
  {
   "cell_type": "code",
   "execution_count": 2,
   "metadata": {},
   "outputs": [],
   "source": [
    "def solvePV(flow: List[float], when: List[float], IRR: float) -> float:\n",
    "    \"\"\"Solve the PV of a given cash flow.\n",
    "\n",
    "    Args:\n",
    "        flow[N]: a cash flow\n",
    "        when[N]: timeline of the cash flow\n",
    "    \n",
    "    Return:\n",
    "        PV: PV of the given flow\n",
    "    \"\"\"\n",
    "    assert len(flow) == len(when), \"Invalid Cash Flow: {flow} with its time line {when}.\"\n",
    "\n",
    "    PV = 0.\n",
    "    for cash, time in zip(flow, when):\n",
    "        PV += cash / (1 + IRR)**time\n",
    "\n",
    "    return PV"
   ]
  },
  {
   "cell_type": "markdown",
   "metadata": {},
   "source": [
    "小红办卡后每次理发的价值为`500`元(尽管她的实际支付为`400`元)，因此可以得到她办卡后的现金流为：\n",
    "\n",
    "1. 当天支出`1200`元办卡，得到`500`元服务\n",
    "2. 明年理发得到`500`元服务\n",
    "3. 后年理发得到`500`元服务\n",
    "\n",
    "因此IRR满足的方程为：\n",
    "\n",
    "$$\n",
    "1200 = 500 + \\frac{500}{1 + y} + \\frac{500}{(1 + y)^2}\n",
    "$$\n",
    "\n",
    "通过计算可以得到办卡的IRR为："
   ]
  },
  {
   "cell_type": "code",
   "execution_count": 3,
   "metadata": {},
   "outputs": [
    {
     "name": "stdout",
     "output_type": "stream",
     "text": [
      "The IRR of this membership card is 27.47%.\n"
     ]
    }
   ],
   "source": [
    "IRR = npf.irr([-700, 500, 500])\n",
    "print(f\"The IRR of this membership card is {IRR:.2%}.\")"
   ]
  },
  {
   "cell_type": "markdown",
   "metadata": {},
   "source": [
    "最后简单验算一下三次理发的现值PV是否为`1200`元."
   ]
  },
  {
   "cell_type": "code",
   "execution_count": 4,
   "metadata": {},
   "outputs": [
    {
     "name": "stdout",
     "output_type": "stream",
     "text": [
      "The PV is 1200.0\n"
     ]
    }
   ],
   "source": [
    "print(f\"The PV is {solvePV([500, 500, 500], [0, 1, 2], IRR)}\")"
   ]
  },
  {
   "cell_type": "markdown",
   "metadata": {},
   "source": [
    "## Q3.2"
   ]
  },
  {
   "cell_type": "markdown",
   "metadata": {},
   "source": [
    "(a) 使用票息剥离法(bootstrap method)计算三种债券的即期收益率(spot rate)。1年期国债的即期收益率$r_1$为：\n",
    "\n",
    "$$\n",
    "90 = \\frac{100}{1 + r_1}, \\ \\ \\ r_1 = 11.11 \\%\n",
    "$$\n",
    "\n",
    "接下来计算2年期国债的即期收益率$r_2$为：\n",
    "\n",
    "$$\n",
    "95 = \\frac{5}{1 + r_1} + \\frac{105}{{(1 + r_2)}^2}, \\ \\ \\ r_2 = 7.71 \\%\n",
    "$$\n",
    "\n",
    "类似地，3年期国债的即期收益率$r_3$为：\n",
    "\n",
    "$$\n",
    "96 = \\frac{6}{1 + r_1} + \\frac{6}{{(1 + r_2)}^2} + \\frac{106}{{(1 + r_3)}^3}, \\ \\ \\ r_3 = 7.46 \\%\n",
    "$$"
   ]
  },
  {
   "cell_type": "code",
   "execution_count": 5,
   "metadata": {},
   "outputs": [
    {
     "name": "stdout",
     "output_type": "stream",
     "text": [
      "r1 = 11.11%, r2 = 7.71%, r3 = 7.46%\n"
     ]
    }
   ],
   "source": [
    "r1 = 100 / 90 - 1\n",
    "r2 = (105 / (95 - 5 / (1 + r1)))**(1/2) - 1\n",
    "r3 = (106 / (96 - 6 / (1 + r1) - 6 / (1 + r2)**2))**(1/3) - 1\n",
    "\n",
    "print(f\"r1 = {r1:.2%}, r2 = {r2:.2%}, r3 = {r3:.2%}\")"
   ]
  },
  {
   "cell_type": "markdown",
   "metadata": {},
   "source": [
    "(b) 到期收益率可以按照现金流来计算，三种债券分别满足方程：\n",
    "\n",
    "$$\n",
    "90 = \\frac{1}{1 + y_1}\n",
    "$$\n",
    "\n",
    "$$\n",
    "95 = \\frac{5}{1 + y_2} + \\frac{105}{(1 + y_2)^2}\n",
    "$$\n",
    "\n",
    "$$\n",
    "96 = \\frac{6}{1 + y_3} + \\frac{6}{(1 + y_3)^2} + \\frac{106}{(1 + y_3)^3}\n",
    "$$\n",
    "\n",
    "通过计算得到到期收益率分别为：\n",
    "\n",
    "$$\n",
    "y_1 = 11.11\\%, \\ \\ \\ y_2 = 7.80\\%, \\ \\ \\ y_3 = 7.54\\%\n",
    "$$"
   ]
  },
  {
   "cell_type": "code",
   "execution_count": 6,
   "metadata": {},
   "outputs": [
    {
     "name": "stdout",
     "output_type": "stream",
     "text": [
      "y1 = 11.11%, y2 = 7.80%, y3 = 7.54%\n"
     ]
    }
   ],
   "source": [
    "y1 = npf.irr([-90, 100])\n",
    "y2 = npf.irr([-95, 5, 105])\n",
    "y3 = npf.irr([-96, 6, 6, 106])\n",
    "\n",
    "print(f\"y1 = {y1:.2%}, y2 = {y2:.2%}, y3 = {y3:.2%}\")"
   ]
  },
  {
   "cell_type": "markdown",
   "metadata": {},
   "source": [
    "(c) 1年后的远期1年期即期利率满足方程：\n",
    "\n",
    "$$\n",
    "95 = \\frac{5}{1 + r_1} + \\frac{105}{(1 + r_1)(1 + fr)}, \\ \\ \\ fr = 4.42\\%\n",
    "$$"
   ]
  },
  {
   "cell_type": "code",
   "execution_count": 7,
   "metadata": {},
   "outputs": [
    {
     "name": "stdout",
     "output_type": "stream",
     "text": [
      "fr = 4.42%\n"
     ]
    }
   ],
   "source": [
    "fr = 105 / ((1+r1) * (95 - 5 / (1+r1))) - 1\n",
    "print(f\"fr = {fr:.2%}\")"
   ]
  },
  {
   "cell_type": "markdown",
   "metadata": {},
   "source": [
    "类似地，2年后的远期1年期即期利率满足方程：\n",
    "\n",
    "$$\n",
    "96 = \\frac{6}{1 + r_1} + \\frac{6}{(1 + r_2)^2} + \\frac{106}{(1 + r_2)^2 \\cdot (1 + fr)}, \\ \\ \\ fr = 6.95\\%\n",
    "$$"
   ]
  },
  {
   "cell_type": "code",
   "execution_count": 8,
   "metadata": {},
   "outputs": [
    {
     "name": "stdout",
     "output_type": "stream",
     "text": [
      "fr = 6.95%\n"
     ]
    }
   ],
   "source": [
    "fr = 106 / ((1+r2)**2 * (96 - 6/(1+r1) - 6/(1+r2)**2)) - 1\n",
    "print(f\"fr = {fr:.2%}\")"
   ]
  },
  {
   "cell_type": "markdown",
   "metadata": {},
   "source": [
    "(d) 1年后的远期2年期即期利率满足方程：\n",
    "\n",
    "$$\n",
    "96 = \\frac{6}{1 + r_1} + \\frac{6}{(1 + r_2)^2} + \\frac{106}{(1 + r_1) \\cdot (1 + fr)^2}, \\ \\ \\ fr = 5.68\\%\n",
    "$$"
   ]
  },
  {
   "cell_type": "code",
   "execution_count": 9,
   "metadata": {},
   "outputs": [
    {
     "name": "stdout",
     "output_type": "stream",
     "text": [
      "fr = 5.68%\n"
     ]
    }
   ],
   "source": [
    "fr = (106 / ((1+r1) * (96 - 6/(1+r1) - 6/(1+r2)**2)))**(1/2) - 1\n",
    "print(f\"fr = {fr:.2%}\")"
   ]
  },
  {
   "cell_type": "markdown",
   "metadata": {},
   "source": [
    "(e) 该债券现在的价格满足方程\n",
    "\n",
    "$$\n",
    "P = \\frac{10}{1 + r_1} + \\frac{10}{(1 + r_2)^2} + \\frac{110}{(1+r_3)^3} = 106.27\n",
    "$$"
   ]
  },
  {
   "cell_type": "code",
   "execution_count": 10,
   "metadata": {},
   "outputs": [
    {
     "name": "stdout",
     "output_type": "stream",
     "text": [
      "P = 106.27\n"
     ]
    }
   ],
   "source": [
    "P = 10/(1 + r1) + 10/(1 + r2)**2 + 110/(1 + r3)**3\n",
    "print(f\"P = {P:.2f}\")"
   ]
  },
  {
   "cell_type": "markdown",
   "metadata": {},
   "source": [
    "## Q3.3"
   ]
  },
  {
   "cell_type": "markdown",
   "metadata": {},
   "source": [
    "投资者在第2年通过购买债券获得的资金为：\n",
    "\n",
    "$$\n",
    "5 \\times (1 + 10\\%) + 105 = 110.5\n",
    "$$\n",
    "\n",
    "而融资的借款在偿还时需要支付\n",
    "\n",
    "$$\n",
    "97 \\times (1 + 5.26\\%) \\times (1 + 10\\%) = 112.31\n",
    "$$\n",
    "\n",
    "因此如果1年后的1年期即期利率升到了10%，投资者通过收益率赌博亏了 1.81 元。"
   ]
  }
 ],
 "metadata": {
  "kernelspec": {
   "display_name": "base",
   "language": "python",
   "name": "python3"
  },
  "language_info": {
   "codemirror_mode": {
    "name": "ipython",
    "version": 3
   },
   "file_extension": ".py",
   "mimetype": "text/x-python",
   "name": "python",
   "nbconvert_exporter": "python",
   "pygments_lexer": "ipython3",
   "version": "3.12.4"
  }
 },
 "nbformat": 4,
 "nbformat_minor": 2
}
