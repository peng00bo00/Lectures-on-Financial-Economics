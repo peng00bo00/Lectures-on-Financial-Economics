{
 "cells": [
  {
   "cell_type": "markdown",
   "metadata": {},
   "source": [
    "## Q4.1"
   ]
  },
  {
   "cell_type": "markdown",
   "metadata": {},
   "source": []
  },
  {
   "cell_type": "markdown",
   "metadata": {},
   "source": [
    "## Q4.2"
   ]
  },
  {
   "cell_type": "markdown",
   "metadata": {},
   "source": [
    "(a) 对企业分红的可能性边界进行微分得到\n",
    "\n",
    "$$\n",
    "2 D_1 \\mathrm{d} D_1 + 2 (D_2 + 1) \\mathrm{d} D_2 = 0\n",
    "$$\n",
    "\n",
    "$$\n",
    "\\frac{\\mathrm{d} D_2}{\\mathrm{d} D_1} =  - \\frac{D_1}{D_2 + 1}\n",
    "$$\n",
    "\n",
    "即可能性边界上切线的斜率为$- \\frac{D_1}{D_2 + 1}$，令其等于市场机会线的斜率有：\n",
    "\n",
    "$$\n",
    "- \\frac{D_1}{D_2 + 1} = -(1+r)\n",
    "$$\n",
    "\n",
    "带入$r=20\\%$，得到$D_1$和$D_2$的关系式为\n",
    "\n",
    "$$\n",
    "D_1 = 1.2 D_2 + 1.2\n",
    "$$\n",
    "\n",
    "最后带回可能性边界可以解出\n",
    "\n",
    "$$\n",
    "D_1 = 3.436, \\ \\ \\ D_2 = 1.863\n",
    "$$"
   ]
  },
  {
   "cell_type": "markdown",
   "metadata": {},
   "source": [
    "(b) 对股东的效用函数进行微分得到\n",
    "\n",
    "$$\n",
    "\\mathrm{d} u = \\frac{1}{C_1} \\mathrm{d} C_1 + \\frac{0.9}{C_2} \\mathrm{d} C_2\n",
    "$$\n",
    "\n",
    "因此，效用函数上的切线方向为\n",
    "\n",
    "$$\n",
    "\\frac{\\mathrm{d} C_2}{\\mathrm{d} C_1} = -\\frac{C_2}{0.9C_1}\n",
    "$$\n",
    "\n",
    "由于使用了市场利率进行转换，效用函数应与市场机会线相切，即\n",
    "\n",
    "$$\n",
    "-\\frac{C_2}{0.9C_1} = - (1+r)\n",
    "$$\n",
    "\n",
    "$$\n",
    "\\frac{C_2 - D_2}{C_1 - D_1} = - (1+r)\n",
    "$$\n",
    "\n",
    "求解后可以得到股东的两期收益为\n",
    "\n",
    "$$\n",
    "C_1 = 2.614, \\ \\ \\ C_2 = 2.823\n",
    "$$\n",
    "\n",
    "因此股东的效用为\n",
    "\n",
    "$$\n",
    "u = \\ln{C_1} + 0.9 \\ln{C_2} = 1.895\n",
    "$$"
   ]
  },
  {
   "cell_type": "markdown",
   "metadata": {},
   "source": [
    "(c) 当企业的分红可能性边界为$D_1 + D_2 = 20$时，企业应选择在第1期将全部利润分红这样可以利用市场利率获得更高的收益。此时有\n",
    "\n",
    "$$\n",
    "D_1 = 20, \\ \\ \\ D_2 = 0\n",
    "$$\n",
    "\n",
    "按照上一问的方法计算股东效用可以得到\n",
    "\n",
    "$$\n",
    "C_1 = 10.526, \\ \\ \\ C_2 = 11.368\n",
    "$$\n",
    "\n",
    "此时股东的效用为\n",
    "\n",
    "$$\n",
    "u = \\ln{C_1} + 0.9 \\ln{C_2} = 4.542\n",
    "$$"
   ]
  }
 ],
 "metadata": {
  "kernelspec": {
   "display_name": "base",
   "language": "python",
   "name": "python3"
  },
  "language_info": {
   "codemirror_mode": {
    "name": "ipython",
    "version": 3
   },
   "file_extension": ".py",
   "mimetype": "text/x-python",
   "name": "python",
   "nbconvert_exporter": "python",
   "pygments_lexer": "ipython3",
   "version": "3.12.4"
  }
 },
 "nbformat": 4,
 "nbformat_minor": 2
}
