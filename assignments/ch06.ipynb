{
 "cells": [
  {
   "cell_type": "markdown",
   "metadata": {},
   "source": [
    "## Q6.1"
   ]
  },
  {
   "cell_type": "markdown",
   "metadata": {},
   "source": [
    "投资者在无风险资产和市场组合上的权重分别为$1-\\mu$和$\\mu$，此时资产组合的期望回报以及波动率为：\n",
    "\n",
    "$$\n",
    "E (r_p) = E \\big( (1 - \\mu) r_f + \\mu r_M \\big) = r_f + \\mu (r_M - r_f)\n",
    "$$\n",
    "\n",
    "$$\n",
    "\\sigma^2 (r_p) = \\sigma^2 \\big( (1 - \\mu) r_f + \\mu r_M \\big) = \\mu^2 \\sigma_M^2\n",
    "$$\n",
    "\n",
    "接下来将资产组合$r_p$的一小部分转移到新的资产$r_i$上，使得$r_i$占新资产组合的比例为$w$。此时资产组合的期望回报以及波动率为：\n",
    "\n",
    "$$\n",
    "\\begin{aligned}\n",
    "E (r_p') &= E \\big( (1 - w) r_p + w r_i \\big) \\\\\n",
    "&= w r_i + (1 - w) r_f + \\mu (r_M - r_f) - \\mu w (r_M - r_f)\n",
    "\\end{aligned}\n",
    "$$\n",
    "\n",
    "$$\n",
    "\\begin{aligned}\n",
    "\\sigma^2 (r_p') &= (1 - w)^2 \\sigma^2 (r_p) + w^2 \\sigma^2 (r_i) + 2 w (1 - w) \\sigma_{ip} \\\\\n",
    "&= w^2 \\sigma_i^2 + \\mu^2 (1 - w)^2 \\sigma_M^2 + 2 \\mu w (1 - w) \\sigma_{iM}^2 \n",
    "\\end{aligned}\n",
    "$$\n",
    "\n",
    "代入效用函数可以得到资产组合$r_p'$的效用为\n",
    "\n",
    "$$\n",
    "\\begin{aligned}\n",
    "u (r_p') &= E (r_p') - A \\sigma^2 (r_p') \\\\\n",
    "&= w r_i + (1 - w) r_f + \\mu (r_M - r_f) - \\mu w (r_M - r_f) \\\\\n",
    "&- A [w^2 \\sigma_i^2 + \\mu^2 (1 - w)^2 \\sigma_M^2 + 2 \\mu w (1 - w) \\sigma_{iM}]\n",
    "\\end{aligned}\n",
    "$$\n",
    "\n",
    "在最优组合上效用函数关于参数$w$的边际效用为0，有\n",
    "\n",
    "$$\n",
    "\\begin{aligned}\n",
    "\\frac{\\mathrm{d} u}{\\mathrm{d} w} \\bigg\\vert_{w = 0} &= r_i - r_f - \\mu (r_M - r_f) \\\\\n",
    "&- 2 A \\big( w \\sigma_i^2 - \\mu^2 \\sigma_M^2 (1 - w) + \\mu \\sigma_{iM} - 2 \\mu \\sigma_{iM} w \\big) \\\\\n",
    "&= 0\n",
    "\\end{aligned}\n",
    "$$\n",
    "\n",
    "整理得到方程\n",
    "\n",
    "$$\n",
    "r_i - r_f - \\mu (r_M - r_f) = 2 A ( \\mu \\sigma_{iM} - \\mu^2 \\sigma_M^2 )\n",
    "$$\n",
    "\n",
    "该方程对任意资产$r_i$成立，因此可以去$r_i = r_f$从而解出常数$A$\n",
    "\n",
    "$$\n",
    "A = \\frac{r_i - r_f - \\mu (r_M - r_f)}{2 ( \\mu \\sigma_{iM} - \\mu^2 \\sigma_M^2 )} = \\frac{r_M - r_f}{2 \\mu \\sigma_M^2}\n",
    "$$\n",
    "\n",
    "最后带回原方程得到\n",
    "\n",
    "$$\n",
    "r_i - r_f = \\frac{\\sigma_{iM}}{\\sigma_M^2} (r_M - r_f) = \\beta_i (r_M - r_f)\n",
    "$$\n",
    "\n",
    "上式即为CAPM定价方程。"
   ]
  },
  {
   "cell_type": "markdown",
   "metadata": {},
   "source": [
    "## Q6.2"
   ]
  },
  {
   "cell_type": "markdown",
   "metadata": {},
   "source": [
    "A和B两种资产的市场组合可通过最大化夏普比进行计算，具体可以参考 Q5.1 (b) 中的理论推导过程，这里直接给出最优组合的计算公式\n",
    "\n",
    "$$\n",
    "w_A = \\frac{(r_A - r_f) \\sigma_B^2 - (r_B - r_f) \\sigma_{AB}}{(r_B - r_f) \\sigma_A^2 + (r_A - r_f) \\sigma_B^2 - [(r_A - r_f) + (r_B - r_f)] \\sigma_{AB}}\n",
    "$$\n",
    "\n",
    "代入数据可以计算得到市场组合的构成为 81.48\\% 的资产A 与 18.52\\% 的资产B"
   ]
  },
  {
   "cell_type": "code",
   "execution_count": 1,
   "metadata": {},
   "outputs": [
    {
     "name": "stdout",
     "output_type": "stream",
     "text": [
      "The market portfolio is: 81.48% A + 18.52% B\n"
     ]
    }
   ],
   "source": [
    "rA = 0.15\n",
    "rB = 0.10\n",
    "rho = 0.5\n",
    "\n",
    "rf = 0.05\n",
    "rAf = rA - rf\n",
    "rBf = rB - rf\n",
    "\n",
    "stdA = 0.10\n",
    "stdB = 0.08\n",
    "\n",
    "sigA = stdA * stdA\n",
    "sigB = stdB * stdB\n",
    "\n",
    "## market portfolio\n",
    "cov = rho * stdA * stdB\n",
    "wA = (rAf * sigB - rBf * cov) / (rBf * sigA + rAf * sigB - (rAf + rBf) * cov)\n",
    "\n",
    "print(f\"The market portfolio is: {wA:.2%} A + {1-wA:.2%} B\")"
   ]
  },
  {
   "cell_type": "markdown",
   "metadata": {},
   "source": [
    "## Q3"
   ]
  },
  {
   "cell_type": "markdown",
   "metadata": {},
   "source": [
    "这种情况不会发生。假设存在这样的情况，那么投资者不会选择具有最小风险的资产$r_0$，而是购买无风险资产。这会使得市场上无风险资产的价格上涨，收益率下降；而风险资产的价格下降，收益率上涨。最终达到均衡时又会回到$r_0 > r_f$的状态。"
   ]
  }
 ],
 "metadata": {
  "kernelspec": {
   "display_name": "base",
   "language": "python",
   "name": "python3"
  },
  "language_info": {
   "codemirror_mode": {
    "name": "ipython",
    "version": 3
   },
   "file_extension": ".py",
   "mimetype": "text/x-python",
   "name": "python",
   "nbconvert_exporter": "python",
   "pygments_lexer": "ipython3",
   "version": "3.12.4"
  }
 },
 "nbformat": 4,
 "nbformat_minor": 2
}
