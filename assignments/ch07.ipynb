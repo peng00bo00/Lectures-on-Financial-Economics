{
 "cells": [
  {
   "cell_type": "markdown",
   "metadata": {},
   "source": [
    "## Q7.1"
   ]
  },
  {
   "cell_type": "markdown",
   "metadata": {},
   "source": [
    "(a)\n",
    "\n",
    "$$\n",
    "SR = \\frac{r - r_f}{\\sigma} \n",
    "$$"
   ]
  },
  {
   "cell_type": "code",
   "execution_count": 1,
   "metadata": {},
   "outputs": [
    {
     "name": "stdout",
     "output_type": "stream",
     "text": [
      "SRM = 0.28\n",
      "SRA = 0.20\n"
     ]
    }
   ],
   "source": [
    "%reset -f\n",
    "\n",
    "rM = 0.8 / 100\n",
    "rA = 0.5 / 100\n",
    "rf = 0.1 / 100\n",
    "\n",
    "sigM = 2.5 / 100\n",
    "sigA = 2.0 / 100\n",
    "\n",
    "SR = lambda r, sigma : (r - rf) / sigma\n",
    "\n",
    "print(f\"SRM = {SR(rM, sigM):.2f}\")\n",
    "print(f\"SRA = {SR(rA, sigA):.2f}\")"
   ]
  },
  {
   "cell_type": "markdown",
   "metadata": {},
   "source": [
    "(b)\n",
    "\n",
    "$$\n",
    "\\alpha_A = \\tilde{r}_A - \\beta \\tilde{r}_M\n",
    "$$"
   ]
  },
  {
   "cell_type": "code",
   "execution_count": 2,
   "metadata": {},
   "outputs": [
    {
     "name": "stdout",
     "output_type": "stream",
     "text": [
      "alpha = 0.05%\n"
     ]
    }
   ],
   "source": [
    "beta = 0.5\n",
    "\n",
    "alpha = (rA - rf) - beta * (rM - rf)\n",
    "print(f\"alpha = {alpha:.2%}\")"
   ]
  },
  {
   "cell_type": "markdown",
   "metadata": {},
   "source": [
    "(c) 根据最大化夏普比的资产组合比例公式有\n",
    "\n",
    "$$\n",
    "\\begin{aligned}\n",
    "w_A &= \\frac{(r_A - r_f) \\sigma_M^2 - (r_M - r_f) \\sigma_{AM}}{(r_M - r_f) \\sigma_A^2 + (r_A - r_f) \\sigma_M^2 - [(r_A - r_f) + (r_M - r_f)] \\sigma_{AM}} \\\\\n",
    "&= \\frac{(r_A - r_f) \\sigma_M^2 - (r_M - r_f) \\beta \\sigma_M^2}{(r_M - r_f) \\sigma_A^2 + (r_A - r_f) \\sigma_M^2 - [(r_A - r_f) + (r_M - r_f)] \\beta \\sigma_M^2} \\\\\n",
    "&= \\frac{\\tilde{r}_A - \\beta \\tilde{r}_M}{\\frac{\\sigma_A^2}{\\sigma_M^2} \\tilde{r}_M + \\tilde{r}_A - (\\tilde{r}_A + \\tilde{r}_M) \\beta} \\\\\n",
    "&= \\frac{\\alpha}{\\alpha + \\frac{\\sigma_A^2}{\\sigma_M^2} \\tilde{r}_M - \\beta \\tilde{r}_A}\n",
    "\\end{aligned}\n",
    "$$\n",
    "\n",
    "带入数据计算得到最优资产组合为 16.78\\% A + 83.22\\% 市场组合。得到最优资产组合后重新计算资产组合的回报率以及标准差，最后带入夏普比公式可得到最大夏普比为 0.2818 。"
   ]
  },
  {
   "cell_type": "code",
   "execution_count": 3,
   "metadata": {},
   "outputs": [
    {
     "name": "stdout",
     "output_type": "stream",
     "text": [
      "The optimal portfolio is : 16.78% A + 83.22% M\n",
      "SRp = 0.2818\n"
     ]
    }
   ],
   "source": [
    "import math\n",
    "\n",
    "rAf = rA - rf\n",
    "rMf = rM - rf\n",
    "\n",
    "w = (alpha) / ( alpha + (sigA/sigM)**2 * rMf - beta * rAf)\n",
    "print(f\"The optimal portfolio is : {w:.2%} A + {1-w:.2%} M\")\n",
    "\n",
    "rp = w * rA + (1 - w) * rM\n",
    "sig2p = w * w * sigA * sigA + (1 - w) * (1 - w) * sigM * sigM + 2 * w * (1 - w) * beta * sigM * sigM\n",
    "sigp = math.sqrt(sig2p)\n",
    "\n",
    "print(f\"SRp = {SR(rp, sigp):.4f}\")"
   ]
  },
  {
   "cell_type": "markdown",
   "metadata": {},
   "source": [
    "## Q7.2"
   ]
  },
  {
   "cell_type": "markdown",
   "metadata": {},
   "source": [
    "(a) 首先确定XYZ公司的回报率。根据CAPM定价公式有\n",
    "\n",
    "$$\n",
    "r_i = r_f + \\beta \\tilde{r}_M = r_f + \\frac{\\sigma_{iM}}{\\sigma_M^2} \\tilde{r}_M = r_f + \\frac{\\rho \\sigma_i}{\\sigma_M} \\tilde{r}_M\n",
    "$$\n",
    "\n",
    "计算得到 $r_i = 9.2\\%$ 。然后根据Gordon模型可以得到股票的价格\n",
    "\n",
    "$$\n",
    "S_0 = \\frac{D_1}{r_i - g}\n",
    "$$\n",
    "\n",
    "带入数据得到股票当前的价格为 23.81 元。"
   ]
  },
  {
   "cell_type": "code",
   "execution_count": 4,
   "metadata": {},
   "outputs": [
    {
     "name": "stdout",
     "output_type": "stream",
     "text": [
      "The expected return of the company is: 9.20%\n",
      "The stock price of the company is: 23.81\n"
     ]
    }
   ],
   "source": [
    "%reset -f\n",
    "\n",
    "rf   = 2 / 100\n",
    "rMf  = 6 / 100\n",
    "sigM = 15 / 100\n",
    "sigi  = 20 / 100\n",
    "rho  = 0.9\n",
    "\n",
    "ri = rf + rho * sigi / sigM * rMf\n",
    "print(f\"The expected return of the company is: {ri:.2%}\")\n",
    "\n",
    "D = 1\n",
    "g = 5 / 100\n",
    "\n",
    "S = D / (ri - g)\n",
    "print(f\"The stock price of the company is: {S:.2f}\")"
   ]
  },
  {
   "cell_type": "markdown",
   "metadata": {},
   "source": [
    "(b) 根据Gordon模型可以写出当前股票价格的计算式\n",
    "\n",
    "$$\n",
    "S_0 = \\sum_{i=1}^\\infty \\frac{D_t}{(1+r)^t}\n",
    "$$\n",
    "\n",
    "分离出第一项有\n",
    "\n",
    "$$\n",
    "S_0 = \\frac{D_1}{1+r} + \\sum_{i=2}^\\infty \\frac{D_t}{(1+r)^t}\n",
    "$$\n",
    "\n",
    "本题中不同期的分红满足递推关系\n",
    "\n",
    "$$\n",
    "\\begin{cases}\n",
    "D_2 = (1 + 10\\%) D_1 \\\\\n",
    "D_{t+1} = (1 + 5\\%) D_t, \\ \\ \\ t \\geq 2 \\\\\n",
    "\\end{cases}\n",
    "$$\n",
    "\n",
    "代入股票价格计算式有\n",
    "\n",
    "$$\n",
    "\\begin{aligned}\n",
    "S_0 &= \\frac{D_1}{1+r} + \\sum_{i=2}^\\infty \\frac{(1 + 10\\%) (1 + 5\\%)^{t-2} D_1}{(1+r)^t} \\\\\n",
    "&= \\frac{D_1}{1+r} + \\frac{1+10\\%}{(1+r)^2} D_1 \\cdot \\sum_{i=2}^\\infty \\bigg( \\frac{1 + 5\\%}{1+r} \\bigg)^{t-2} \\\\\n",
    "&= \\frac{D_1}{1+r} + \\frac{1+10\\%}{(1+r)^2} D_1 \\cdot \\frac{1 + r}{r - 5\\%} \\\\\n",
    "&= \\frac{D_1}{1+r} + \\frac{1+10\\%}{(1+r) (r - 5\\%)} D_1 \\\\\n",
    "&= \\frac{1+r+5\\%}{(1+r) (r - 5\\%)} D_1\n",
    "\\end{aligned}\n",
    "$$\n",
    "\n",
    "带入数据得到股票当前的价格为 24.90 元。"
   ]
  },
  {
   "cell_type": "code",
   "execution_count": 5,
   "metadata": {},
   "outputs": [
    {
     "name": "stdout",
     "output_type": "stream",
     "text": [
      "The stock price of the company is: 24.90\n"
     ]
    }
   ],
   "source": [
    "S = (1 + ri + 5/100) / ((1 + ri)*(ri - 5/100)) * D\n",
    "print(f\"The stock price of the company is: {S:.2f}\")"
   ]
  },
  {
   "cell_type": "markdown",
   "metadata": {},
   "source": [
    "## Q7.3"
   ]
  },
  {
   "cell_type": "markdown",
   "metadata": {},
   "source": [
    "(a) 根据市场组合权重计算公式可以得到A和B两种资产的最优组合中A的占比为\n",
    "\n",
    "$$\n",
    "\\begin{aligned}\n",
    "w_A &= \\frac{(r_A - r_f) \\sigma_B^2 - (r_B - r_f) \\sigma_{AB}}{(r_B - r_f) \\sigma_A^2 + (r_A - r_f) \\sigma_B^2 - [(r_A - r_f) + (r_B - r_f)] \\sigma_{AB}} \\\\\n",
    "&= \\frac{\\tilde{r}_A \\sigma_B^2 - \\tilde{r}_B \\sigma_{AB}}{\\tilde{r}_B \\sigma_A^2 + \\tilde{r}_A \\sigma_B^2 - (\\tilde{r}_A + \\tilde{r}_B) \\sigma_{AB}}\n",
    "\\end{aligned}\n",
    "$$\n",
    "\n",
    "带入数据计算得到市场组合为 25% A + 75% B。在市场组合下可以计算出最大夏普比为 0.4073"
   ]
  },
  {
   "cell_type": "code",
   "execution_count": 6,
   "metadata": {},
   "outputs": [
    {
     "name": "stdout",
     "output_type": "stream",
     "text": [
      "The market portfolio is: 25.00% A + 75.00% B, SR = 0.4073\n"
     ]
    }
   ],
   "source": [
    "%reset -f\n",
    "\n",
    "import math\n",
    "\n",
    "rA   = 0.08\n",
    "rB   = 0.12\n",
    "rf   = 0.04\n",
    "\n",
    "rAf  = rA - rf\n",
    "rBf  = rB - rf\n",
    "\n",
    "sigA = 0.15\n",
    "sigB = 0.20\n",
    "rho  = 0.5\n",
    "\n",
    "sig2A = sigA * sigA\n",
    "sig2B = sigB * sigB\n",
    "cov   = rho * sigA * sigB\n",
    "\n",
    "## market portfolio\n",
    "wA = (rAf * sig2B - rBf * cov) / (rBf * sig2A + rAf * sig2B - (rAf + rBf) * cov)\n",
    "print(f\"The market portfolio is: {wA:.2%} A + {1-wA:.2%} B\", end=\", \")\n",
    "\n",
    "## sharpe ratio\n",
    "rM = wA * rA + (1 - wA) * rB\n",
    "sig2M = wA * wA * sig2A + (1 - wA) * (1 - wA) * sig2B + 2 * wA * (1 - wA) * cov\n",
    "sigM = math.sqrt(sig2M)\n",
    "\n",
    "SR = lambda r, sigma : (r - rf) / sigma\n",
    "print(f\"SR = {SR(rM, sigM):.4f}\")"
   ]
  },
  {
   "cell_type": "markdown",
   "metadata": {},
   "source": [
    "(b) 市场组合已在上一问中求出，为 25% A + 75% B 。"
   ]
  },
  {
   "cell_type": "markdown",
   "metadata": {},
   "source": [
    "(c) CML和SML的公式分别为\n",
    "\n",
    "$$\n",
    "\\text{CML:} \\ \\ \\ r - r_f = SR_M \\sigma\n",
    "$$\n",
    "\n",
    "$$\n",
    "\\text{SML:} \\ \\ \\ r - r_f = (r_M - r_f) \\beta\n",
    "$$"
   ]
  },
  {
   "cell_type": "markdown",
   "metadata": {},
   "source": [
    "(d) 首先计算该投资经理资产组合的回报率和标准差：\n",
    "\n",
    "$$\n",
    "r_p = \\alpha + r_f + (r_M - r_f) \\beta\n",
    "$$\n",
    "\n",
    "$$\n",
    "\\sigma_{pM} = \\beta \\sigma_M^2 = \\rho \\sigma_p \\sigma_M \\Rightarrow \\sigma_p = \\frac{\\beta}{\\rho} \\sigma_M\n",
    "$$\n",
    "\n",
    "带入数据得到 $r_p = 10.50\\%$, $\\sigma_p = 17.18\\%$ 。接下来将这个新的资产组合和市场组合结合起来，构造一个具有更大夏普比的资产组合。根据 Q7.1 (c) 中的推导公式可以得到资产配置比例为：\n",
    "\n",
    "$$\n",
    "w_p = \\frac{\\alpha}{\\alpha + \\frac{\\sigma_p^2}{\\sigma_M^2} \\tilde{r}_M - \\beta \\tilde{r}_p}\n",
    "$$\n",
    "\n",
    "带入数据计算可以得到此时的最高夏普比为 0.4545 。"
   ]
  },
  {
   "cell_type": "code",
   "execution_count": 7,
   "metadata": {},
   "outputs": [
    {
     "name": "stdout",
     "output_type": "stream",
     "text": [
      "The new portfolio: r = 10.50%, sigma = 17.18% .\n",
      "The optimal portfolio is: 44.44% rp + 55.56% market portfollio. The maximum SR = 0.4545 .\n"
     ]
    }
   ],
   "source": [
    "alpha = 0.03\n",
    "beta  = 0.5\n",
    "rho   = 0.5\n",
    "\n",
    "rp = alpha + rf + (rM - rf) * beta\n",
    "sigp = beta / rho * sigM\n",
    "sig2p= sigp * sigp\n",
    "\n",
    "print(f\"The new portfolio: r = {rp:.2%}, sigma = {sigp:.2%} .\")\n",
    "\n",
    "rpf = rp - rf\n",
    "rMf = rM - rf\n",
    "wp = alpha / (alpha + (sig2p / sig2M) * rMf - beta * rpf)\n",
    "\n",
    "## sharpe ratio\n",
    "rpp = wp * rp + (1 - wp) * rM\n",
    "sig2pp = wp * wp * sig2p + (1 - wp) * (1 - wp) * sig2M + 2 * wp * (1 - wp) * rho * sigp * sigM\n",
    "sigpp = math.sqrt(sig2pp)\n",
    "\n",
    "print(f\"The optimal portfolio is: {wp:.2%} rp + {1-wp:.2%} market portfollio\", end=\". \")\n",
    "print(f\"The maximum SR = {SR(rpp, sigpp):.4f} .\")"
   ]
  }
 ],
 "metadata": {
  "kernelspec": {
   "display_name": "base",
   "language": "python",
   "name": "python3"
  },
  "language_info": {
   "codemirror_mode": {
    "name": "ipython",
    "version": 3
   },
   "file_extension": ".py",
   "mimetype": "text/x-python",
   "name": "python",
   "nbconvert_exporter": "python",
   "pygments_lexer": "ipython3",
   "version": "3.12.4"
  }
 },
 "nbformat": 4,
 "nbformat_minor": 2
}
