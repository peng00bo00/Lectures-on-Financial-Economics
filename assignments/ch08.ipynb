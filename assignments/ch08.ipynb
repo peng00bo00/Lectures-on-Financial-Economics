{
 "cells": [
  {
   "cell_type": "markdown",
   "metadata": {},
   "source": [
    "## Q8.1"
   ]
  },
  {
   "cell_type": "markdown",
   "metadata": {},
   "source": [
    "(a) 在初始效用函数下，小明选择直接获得50袋鲜奶的效用为\n",
    "\n",
    "$$\n",
    "u = u(C) = 50\n",
    "$$\n",
    "\n",
    "如果选择抽奖，则他的期望效用为\n",
    "\n",
    "$$\n",
    "u = 0.5 \\times u(A) + 0.5 \\times u(B) = 75\n",
    "$$\n",
    "\n",
    "显然抽奖可以获得更大的期望效用，因此小明会选择抽奖。"
   ]
  },
  {
   "cell_type": "markdown",
   "metadata": {},
   "source": [
    "(b) 考虑效用函数的线性变换$f(x) = a x + b$，此时小明选择直接获得50袋鲜奶的效用为\n",
    "\n",
    "$$\n",
    "u = f (u(C)) = a + 50 b\n",
    "$$\n",
    "\n",
    "如果选择抽奖，则他的期望效用为\n",
    "\n",
    "$$\n",
    "u = 0.5 \\times f(u(A)) + 0.5 \\times f(u(B)) = a + 75 b\n",
    "$$\n",
    "\n",
    "显然抽奖可以获得更大的期望效用，因此在线性变换下小明仍然会选择抽奖。"
   ]
  },
  {
   "cell_type": "markdown",
   "metadata": {},
   "source": [
    "(c) 考虑效用函数的线性变换$g(x) = \\ln(x)$，此时小明选择直接获得50袋鲜奶的效用为\n",
    "\n",
    "$$\n",
    "u = g (u(C)) = \\ln{(50)} = 3.912\n",
    "$$\n",
    "\n",
    "如果选择抽奖，则他的期望效用为\n",
    "\n",
    "$$\n",
    "u = 0.5 \\times g(u(A)) + 0.5 \\times g(u(B)) = \\frac{1}{2} \\ln{(100)} + \\frac{1}{2} \\ln{(10)} = 3.454\n",
    "$$\n",
    "\n",
    "此时直接获得鲜奶拥有更高的效用，因此他会选择确定的50袋鲜奶。"
   ]
  },
  {
   "cell_type": "markdown",
   "metadata": {},
   "source": [
    "## Q8.2"
   ]
  },
  {
   "cell_type": "markdown",
   "metadata": {},
   "source": [
    "当小明没有购买保险时，他的期望效用为\n",
    "\n",
    "$$\n",
    "u = 0.01 \\times u(100) + 0.99 \\times u(200)\n",
    "$$\n",
    "\n",
    "假设小明购买了保险，保险价格为$C$，此时他的期望效用为\n",
    "\n",
    "$$\n",
    "u' = 0.01 \\times u(200 - C) + 0.99 \\times u(200 - C) = u(200 -C)\n",
    "$$\n",
    "\n",
    "因此小明购买保险的临界保费为两种情况的效用相等$u = u'$，即\n",
    "\n",
    "$$\n",
    "0.01 \\times u(100) + 0.99 \\times u(200) = u(200 -C)\n",
    "$$\n",
    "\n",
    "需要注意的是，当$\\gamma = 1$时小明的效用函数退化为对数函数\n",
    "\n",
    "$$\n",
    "u (w) = \\lim_{\\gamma \\to 1} \\frac{w^{1 - \\gamma} - 1}{1 - \\gamma} = \\ln{(w)}\n",
    "$$\n",
    "\n",
    "其它情况下效用函数为CRRA的标准形式。求解方程可以得到$\\gamma = 1.0, 2.0, 4.0$时小明愿意支付的最高保费为 1.38， 1.98， 4.46 万元。"
   ]
  },
  {
   "cell_type": "code",
   "execution_count": 1,
   "metadata": {},
   "outputs": [
    {
     "name": "stdout",
     "output_type": "stream",
     "text": [
      "The maximum insurance premium when gamma=1.0 is: C=1.38.\n",
      "The maximum insurance premium when gamma=2.0 is: C=1.98.\n",
      "The maximum insurance premium when gamma=4.0 is: C=4.46.\n"
     ]
    }
   ],
   "source": [
    "import math\n",
    "from scipy.optimize import fsolve\n",
    "\n",
    "def create_u(gamma):\n",
    "    \"\"\"CRRA utility with parameter gamma.\n",
    "    \"\"\"\n",
    "\n",
    "    if gamma == 1:\n",
    "        return math.log\n",
    "    \n",
    "    return lambda w : (w**(1 - gamma) - 1) / (1 - gamma)\n",
    "\n",
    "for gamma in [1, 2, 4]:\n",
    "    u = create_u(gamma)\n",
    "    f = lambda C: 0.01 * u(100) + 0.99 * u(200) - u(200 - C[0])\n",
    "    C = fsolve(f, [0.])[0]\n",
    "\n",
    "    print(f\"The maximum insurance premium when gamma={gamma:.1f} is: C={C:.2f}.\")"
   ]
  }
 ],
 "metadata": {
  "kernelspec": {
   "display_name": "base",
   "language": "python",
   "name": "python3"
  },
  "language_info": {
   "codemirror_mode": {
    "name": "ipython",
    "version": 3
   },
   "file_extension": ".py",
   "mimetype": "text/x-python",
   "name": "python",
   "nbconvert_exporter": "python",
   "pygments_lexer": "ipython3",
   "version": "3.12.4"
  }
 },
 "nbformat": 4,
 "nbformat_minor": 2
}
