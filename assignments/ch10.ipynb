{
 "cells": [
  {
   "cell_type": "markdown",
   "metadata": {},
   "source": [
    "## Q10.1"
   ]
  },
  {
   "cell_type": "markdown",
   "metadata": {},
   "source": [
    "支付矩阵的秩不会多于状态数。对于任意$m$行$n$列矩阵$A_{mn}$有\n",
    "\n",
    "$$\n",
    "\\text{rank} (A_{mn}) \\leq m, \\ \\ \\ \\text{rank} (A_{mn}) \\leq n\n",
    "$$\n",
    "\n",
    "因此支付矩阵的秩不会多于其行数，也就是状态数。"
   ]
  },
  {
   "cell_type": "markdown",
   "metadata": {},
   "source": [
    "## Q10.2"
   ]
  },
  {
   "cell_type": "markdown",
   "metadata": {},
   "source": [
    "我们可以借助矩阵的秩来判断市场是否完备，一个市场是完备矩阵当且仅当其支付矩阵是行满秩。因此对于(a)和(b)两种情况只需计算它们矩阵的秩即可，容易解得(a)情况不是完备市场而(b)情况是完备市场。"
   ]
  },
  {
   "cell_type": "code",
   "execution_count": 1,
   "metadata": {},
   "outputs": [
    {
     "name": "stdout",
     "output_type": "stream",
     "text": [
      "X1 is not a complete market.\n",
      "X2 is a complete market.\n"
     ]
    }
   ],
   "source": [
    "import numpy as np\n",
    "\n",
    "X1 = np.array([[1, 0, 0],\n",
    "               [2, 4, 2],\n",
    "               [2, 2, 1]])\n",
    "\n",
    "X2 = np.array([[1, 2, 0, 0],\n",
    "               [1, 4, 1, 2],\n",
    "               [1, 2, 1, 2]])\n",
    "\n",
    "if np.linalg.matrix_rank(X1) == X1.shape[0]:\n",
    "    print(\"X1 is a complete market.\")\n",
    "else:\n",
    "    print(\"X1 is not a complete market.\")\n",
    "\n",
    "if np.linalg.matrix_rank(X2) == X2.shape[0]:\n",
    "    print(\"X2 is a complete market.\")\n",
    "else:\n",
    "    print(\"X2 is not a complete market.\")"
   ]
  },
  {
   "cell_type": "markdown",
   "metadata": {},
   "source": [
    "对于(c)情况则需要写出支付矩阵\n",
    "\n",
    "$$\n",
    "\\mathbf{x} = \n",
    "\\begin{bmatrix}\n",
    "u s_a & u^2 s_b \\\\\n",
    "d s_a & d^2 s_b \\\\\n",
    "\\end{bmatrix}\n",
    "$$\n",
    "\n",
    "$\\mathbf{x}$满秩当且仅当它是可逆的，或者说它的行列式不为0。因此市场是完备市场的充要条件为\n",
    "\n",
    "$$\n",
    "\\begin{aligned}\n",
    "\\det{(\\mathbf{x})} &= u d^2 s_a s_b - u^2 d s_a s_b \\\\\n",
    "&= (d - u) \\cdot u d s_a s_b \\\\\n",
    "&\\neq 0\n",
    "\\end{aligned}\n",
    "$$\n",
    "\n",
    "因此，只有当股票的价格满足$s_a \\neq s_b$且常数$u \\neq d$时市场为完备市场。"
   ]
  },
  {
   "cell_type": "markdown",
   "metadata": {},
   "source": [
    "## Q10.3"
   ]
  },
  {
   "cell_type": "markdown",
   "metadata": {},
   "source": [
    "(a) 同样使用支付矩阵的秩来判断市场是否完备，通过计算可以得知这是一个完备市场。"
   ]
  },
  {
   "cell_type": "code",
   "execution_count": 2,
   "metadata": {},
   "outputs": [
    {
     "name": "stdout",
     "output_type": "stream",
     "text": [
      "X is a complete market.\n"
     ]
    }
   ],
   "source": [
    "X = np.array([[3, 1, 1],\n",
    "              [2, 0, 2],\n",
    "              [1, 3, 0]])\n",
    "\n",
    "if np.linalg.matrix_rank(X) == X.shape[0]:\n",
    "    print(\"X is a complete market.\")\n",
    "else:\n",
    "    print(\"X is not a complete market.\")"
   ]
  },
  {
   "cell_type": "markdown",
   "metadata": {},
   "source": [
    "(b) 设资产组合为$\\mathbf{\\theta} = (\\theta_1, \\theta_2, \\theta_3)$，则资产$\\mathbf{D}$满足矩阵方程\n",
    "\n",
    "$$\n",
    "\\mathbf{x} \\mathbf{\\theta} = \\mathbf{D} \\Rightarrow \\mathbf{\\theta} = \\mathbf{x}^{-1} \\mathbf{D}\n",
    "$$\n",
    "\n",
    "解出资产组合后与价格向量$\\mathbf{p} = (1.3, 1.1, 0.6)$做内积即为资产$\\mathbf{D}$的价格。"
   ]
  },
  {
   "cell_type": "code",
   "execution_count": 3,
   "metadata": {},
   "outputs": [
    {
     "name": "stdout",
     "output_type": "stream",
     "text": [
      "theta = [-0.4  1.8  2.4]\n",
      "The price of asset D is  2.90.\n"
     ]
    }
   ],
   "source": [
    "D = np.array([[3],\n",
    "              [4],\n",
    "              [5]])\n",
    "\n",
    "theta = np.linalg.inv(X) @ D\n",
    "print(f\"theta = {theta.flatten()}\")\n",
    "\n",
    "p = np.array([1.3, 1.1, 0.6])\n",
    "print(f\"The price of asset D is {(p @ theta)[0] : .2f}.\")"
   ]
  },
  {
   "cell_type": "markdown",
   "metadata": {},
   "source": [
    "(c) 要构造阿罗证券可以求解矩阵方程\n",
    "\n",
    "$$\n",
    "\\mathbf{X} \\mathbf{\\Theta} = \\mathbf{I} \\Rightarrow \\mathbf{\\Theta} = \\mathbf{X}^{-1}\n",
    "$$\n",
    "\n",
    "上式中矩阵$\\Theta$的每一列即为对应阿罗证券的组合系数，其价格由行向量$\\mathbf{p} \\mathbf{\\Theta} = \\mathbf{p} \\mathbf{X}^{-1}$给出。可以解出三种阿罗证券的价格分别为 0.2, 0.2, 0.3 。"
   ]
  },
  {
   "cell_type": "code",
   "execution_count": 4,
   "metadata": {},
   "outputs": [
    {
     "name": "stdout",
     "output_type": "stream",
     "text": [
      "The 1th Arrow security could be composed using theta = [ 0.6 -0.2 -0.6], and its price is  0.20.\n",
      "The 2th Arrow security could be composed using theta = [-0.3  0.1  0.8], and its price is  0.20.\n",
      "The 3th Arrow security could be composed using theta = [-0.2  0.4  0.2], and its price is  0.30.\n"
     ]
    }
   ],
   "source": [
    "Theta = np.linalg.inv(X)\n",
    "P = p @ Theta\n",
    "\n",
    "for i in range(3):\n",
    "    print(f\"The {i+1}th Arrow security could be composed using theta = {Theta[:, i]}, and its price is {P[i] : .2f}.\")"
   ]
  },
  {
   "cell_type": "markdown",
   "metadata": {},
   "source": [
    "(d) 要通过阿罗证券构造出资产$\\mathbf{D}$只需要将不同状态下资产$\\mathbf{D}$具有的支付份数的阿罗证券组合起来即可。容易验证使用阿罗证券和A, B, C三种资产进行组合得到的价格是一致的。"
   ]
  },
  {
   "cell_type": "code",
   "execution_count": 5,
   "metadata": {},
   "outputs": [
    {
     "name": "stdout",
     "output_type": "stream",
     "text": [
      "The price of asset D is 2.90.\n"
     ]
    }
   ],
   "source": [
    "print(f\"The price of asset D is {(D.T @ P)[0]:.2f}.\")"
   ]
  },
  {
   "cell_type": "markdown",
   "metadata": {},
   "source": [
    "## Q10.4"
   ]
  },
  {
   "cell_type": "markdown",
   "metadata": {},
   "source": [
    "(a) 首先考虑消费者1的效用，他的总效用函数为\n",
    "\n",
    "$$\n",
    "\\begin{aligned}\n",
    "U_1 &= u_1 (c_{1, 0}) + \\delta_1 E (c_1) \\\\\n",
    "&= \\ln{c_{1, 0}} + \\frac{1}{2} \\ln{c_{1, a}} + \\frac{1}{2} \\ln{c_{1, b}}\n",
    "\\end{aligned}\n",
    "$$\n",
    "\n",
    "因此可以构造约束优化问题\n",
    "\n",
    "$$\n",
    "\\begin{aligned}\n",
    "\\max_{c_{1, 0}, c_{1, a}, c_{1, b}} \\ \\ \\ &\\ln{c_{1, 0}} + \\frac{1}{2} \\ln{c_{1, a}} + \\frac{1}{2} \\ln{c_{1, b}} \\\\\n",
    "\\text{s.t.} \\ \\ \\ &c_{1, 0} + \\varphi_a c_{1, a} + \\varphi_b c_{1, b} = 2\n",
    "\\end{aligned}\n",
    "$$\n",
    "\n",
    "根据一阶条件可以计算出消费者1的消费为\n",
    "\n",
    "$$\n",
    "c_{1, 0} = 1, \\ \\ \\ c_{1, a} = \\frac{1}{2 \\varphi_a}, \\ \\ \\ c_{1, b} = \\frac{1}{2 \\varphi_b}\n",
    "$$\n",
    "\n",
    "类似地，通过构造约束优化问题来计算消费者2的消费\n",
    "\n",
    "$$\n",
    "\\begin{aligned}\n",
    "\\max_{c_{2, 0}, c_{2, a}, c_{2, b}} \\ \\ \\ &2\\sqrt{c_{2, 0}} + \\sqrt{c_{2, a}} + \\sqrt{c_{2, b}} \\\\\n",
    "\\text{s.t.} \\ \\ \\ &c_{2, 0} + \\varphi_a c_{2, a} + \\varphi_b c_{2, b} = 2.5 \\varphi_a + 1.5 \\varphi_b\n",
    "\\end{aligned}\n",
    "$$\n",
    "\n",
    "可以解得消费者2的消费为\n",
    "\n",
    "$$\n",
    "c_{2, 0} = \\frac{2.5 \\varphi_a + 1.5 \\varphi_b}{1 + \\frac{1}{4 \\varphi_a} + \\frac{1}{4 \\varphi_b}}, \\ \\ \\ \n",
    "c_{2, a} = \\frac{1}{4 \\varphi_a^2} \\frac{2.5 \\varphi_a + 1.5 \\varphi_b}{1 + \\frac{1}{4 \\varphi_a} + \\frac{1}{4 \\varphi_b}}, \\ \\ \\ \n",
    "c_{2, b} = \\frac{1}{4 \\varphi_b^2} \\frac{2.5 \\varphi_a + 1.5 \\varphi_b}{1 + \\frac{1}{4 \\varphi_a} + \\frac{1}{4 \\varphi_b}}\n",
    "$$\n",
    "\n",
    "接下来代入市场出清，得到方程组\n",
    "\n",
    "$$\n",
    "\\begin{cases}\n",
    "2 &= c_{1, 0} + c_{2, 0} \\\\\n",
    "2.5 &= c_{1, a} + c_{2, a} \\\\\n",
    "1.5 &= c_{1, b} + c_{2, b} \\\\\n",
    "\\end{cases}\n",
    "$$\n",
    "\n",
    "这里使用数值计算的方法来求解非线性方程组。计算后得到阿罗证券的价格为\n",
    "\n",
    "$$\n",
    "\\varphi_a = 0.43, \\ \\ \\ \\varphi_b = 0.61\n",
    "$$\n",
    "\n",
    "以及消费者各期的消费为\n",
    "\n",
    "$$\n",
    "\\begin{cases}\n",
    "c_{1, 0} &= 1.00 \\\\\n",
    "c_{1, a} &= 1.16 \\\\\n",
    "c_{1, b} &= 0.82 \\\\\n",
    "\\end{cases}\n",
    ", \\ \\ \\\n",
    "\\begin{cases}\n",
    "c_{2, 0} &= 1.00 \\\\\n",
    "c_{2, a} &= 0.34 \\\\\n",
    "c_{2, b} &= 0.68 \\\\\n",
    "\\end{cases}\n",
    "$$\n",
    "\n",
    "得到阿罗证券的价格后即可用阿罗证券构造出债券和股票的价格\n",
    "\n",
    "$$\n",
    "\\begin{cases}\n",
    "p_{\\text{bond}} &= \\varphi_a + \\varphi_b = 1.04 \\\\\n",
    "p_{\\text{stock}} &= 1.5 \\varphi_a + 0.5 \\varphi_b = 0.95\n",
    "\\end{cases}\n",
    "$$"
   ]
  },
  {
   "cell_type": "code",
   "execution_count": 6,
   "metadata": {},
   "outputs": [
    {
     "name": "stdout",
     "output_type": "stream",
     "text": [
      "The price of the Arrow-Debreu securities is: [0.43, 0.61]\n",
      "The consumption of C1 is: c10 = 1.00, c1a = 1.16, c1b = 0.82\n",
      "The consumption of C2 is: c20 = 1.00, c2a = 1.34, c2b = 0.68\n",
      "The price of the bond is: p=1.04\n",
      "The price of the stock is: p=0.95\n"
     ]
    }
   ],
   "source": [
    "from scipy.optimize import root\n",
    "\n",
    "## customer 1\n",
    "c10 = lambda phi: 1\n",
    "c1a = lambda phi: 1 / (2 * phi[0])\n",
    "c1b = lambda phi: 1 / (2 * phi[1])\n",
    "\n",
    "## customer 2\n",
    "c20 = lambda phi: (2.5 * phi[0] + 1.5 * phi[1]) / (1 + 1 / (4 * phi[0]) + 1 / (4 * phi[1]))\n",
    "c2a = lambda phi: 1 / (4 * phi[0] * phi[0]) * c20(phi)\n",
    "c2b = lambda phi: 1 / (4 * phi[1] * phi[1]) * c20(phi)\n",
    "\n",
    "def MarketClear(phi):\n",
    "    \"\"\"Market clear condition.\n",
    "    \"\"\"\n",
    "\n",
    "    eq1 = c10(phi) + c20(phi) - 2\n",
    "    eq2 = c1a(phi) + c2a(phi) - 2.5\n",
    "    eq3 = c1b(phi) + c2b(phi) - 1.5\n",
    "\n",
    "    return [eq1, eq2, eq3]\n",
    "\n",
    "res = root(MarketClear, np.ones(2), method='lm')\n",
    "phi = res.x\n",
    "\n",
    "print(f\"The price of the Arrow-Debreu securities is: [{phi[0]:.2f}, {phi[1]:.2f}]\")\n",
    "print(f\"The consumption of C1 is: c10 = {c10(phi):.2f}, c1a = {c1a(phi):.2f}, c1b = {c1b(phi):.2f}\")\n",
    "print(f\"The consumption of C2 is: c20 = {c20(phi):.2f}, c2a = {c2a(phi):.2f}, c2b = {c2b(phi):.2f}\")\n",
    "print(f\"The price of the bond is: p={phi[0]+phi[1]:.2f}\")\n",
    "print(f\"The price of the stock is: p={1.5*phi[0]+0.5*phi[1]:.2f}\")"
   ]
  },
  {
   "cell_type": "markdown",
   "metadata": {},
   "source": [
    "(b) 利用阿罗证券的价格可以得到该资产的价格为\n",
    "\n",
    "$$\n",
    "p = \\varphi_a + 2 \\varphi_b = 1.65\n",
    "$$"
   ]
  },
  {
   "cell_type": "code",
   "execution_count": 7,
   "metadata": {},
   "outputs": [
    {
     "name": "stdout",
     "output_type": "stream",
     "text": [
      "The price of this asset is: 1.65\n"
     ]
    }
   ],
   "source": [
    "print(f\"The price of this asset is: {phi[0] + 2 * phi[1]:.2f}\")"
   ]
  },
  {
   "cell_type": "markdown",
   "metadata": {},
   "source": [
    "(c) 引入新的资产不会改变消费者的消费量，这是因为新的资产没有改变消费者的禀赋只是增加了消费者的选择。从优化的角度来看，新的资产没有改变消费者自身以及市场出清时的禀赋约束，因此不会改变求解的结果。"
   ]
  }
 ],
 "metadata": {
  "kernelspec": {
   "display_name": "base",
   "language": "python",
   "name": "python3"
  },
  "language_info": {
   "codemirror_mode": {
    "name": "ipython",
    "version": 3
   },
   "file_extension": ".py",
   "mimetype": "text/x-python",
   "name": "python",
   "nbconvert_exporter": "python",
   "pygments_lexer": "ipython3",
   "version": "3.12.4"
  }
 },
 "nbformat": 4,
 "nbformat_minor": 4
}
