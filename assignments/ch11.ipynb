{
 "cells": [
  {
   "cell_type": "markdown",
   "metadata": {},
   "source": [
    "## Q11.1"
   ]
  },
  {
   "cell_type": "markdown",
   "metadata": {},
   "source": [
    "(a) 首先计算消费者A的最大期望效用\n",
    "\n",
    "$$\n",
    "\\begin{aligned}\n",
    "\\max_{c_{A, 1}, c_{A, 2}} \\ \\ \\ &\\frac{1}{2} \\ln{c_{A, 1}} + \\frac{1}{2} \\ln{c_{A, 2}} \\\\\n",
    "\\text{s.t.} \\ \\ \\ &\\varphi_1 c_{A, 1} + \\varphi_2 c_{A, 2} = 2 \\varphi_1 + 2 \\varphi_2\n",
    "\\end{aligned}\n",
    "$$\n",
    "\n",
    "求解得到消费者A在两个状态的消费为\n",
    "\n",
    "$$\n",
    "c_{A, 1} = \\frac{\\varphi_1 + \\varphi_2}{\\varphi_1}, \\ \\ \\ c_{A, 2} = \\frac{\\varphi_1 + \\varphi_2}{\\varphi_2}\n",
    "$$\n",
    "\n",
    "类似地，计算消费者B的最大期望效用\n",
    "\n",
    "$$\n",
    "\\begin{aligned}\n",
    "\\max_{c_{B, 1}, c_{B, 2}} \\ \\ \\ &\\frac{1}{2} \\ln{c_{B, 1}} + \\frac{1}{2} \\ln{c_{B, 2}} \\\\\n",
    "\\text{s.t.} \\ \\ \\ &\\varphi_1 c_{B, 1} + \\varphi_2 c_{B, 2} = 3 \\varphi_1 + \\varphi_2\n",
    "\\end{aligned}\n",
    "$$\n",
    "\n",
    "求解得到消费者B在两个状态的消费为\n",
    "\n",
    "$$\n",
    "c_{B, 1} = \\frac{3 \\varphi_1 + \\varphi_2}{2 \\varphi_1}, \\ \\ \\ c_{B, 2} = \\frac{3 \\varphi_1 + \\varphi_2}{2 \\varphi_2}\n",
    "$$\n",
    "\n",
    "代入市场出清，得到方程组\n",
    "\n",
    "$$\n",
    "\\begin{cases}\n",
    "5 &= c_{A, 1} + c_{B, 1} \\\\\n",
    "3 &= c_{A, 2} + c_{B, 2} \\\\\n",
    "\\end{cases}\n",
    "$$\n",
    "\n",
    "计算得到\n",
    "\n",
    "$$\n",
    "\\frac{\\varphi_2}{\\varphi_1} = \\frac{5}{3}\n",
    "$$\n",
    "\n",
    "由此可以得到消费者的消费为\n",
    "\n",
    "$$\n",
    "\\begin{cases}\n",
    "c_{A, 1} &= \\frac{8}{3} \\\\\n",
    "c_{A, 2} &= \\frac{8}{5} \\\\\n",
    "\\end{cases}\n",
    ", \\ \\ \\\n",
    "\\begin{cases}\n",
    "c_{B, 1} &= \\frac{7}{3} \\\\\n",
    "c_{B, 2} &= \\frac{7}{5}\\\\\n",
    "\\end{cases}\n",
    "$$"
   ]
  },
  {
   "cell_type": "markdown",
   "metadata": {},
   "source": [
    "(b) 消费者A的最大期望效用为\n",
    "\n",
    "$$\n",
    "U_A = \\frac{1}{2} \\ln{c_{A, 1}} + \\frac{1}{2} \\ln{c_{A, 2}} = 0.73\n",
    "$$\n",
    "\n",
    "而如果没有交易，他能获得的期望效用为\n",
    "\n",
    "$$\n",
    "U_A' = \\frac{1}{2} \\ln{2} + \\frac{1}{2} \\ln{2} = 0.69\n",
    "$$\n",
    "\n",
    "因此，消费者A的期望效用提高了 0.04 。\n",
    "\n",
    "类似地，可以计算出消费者B的最大期望效用和原始期望效用为\n",
    "\n",
    "$$\n",
    "U_B = \\frac{1}{2} \\ln{c_{B, 1}} + \\frac{1}{2} \\ln{c_{B, 2}} = 0.59\n",
    "$$\n",
    "\n",
    "$$\n",
    "U_B' = \\frac{1}{2} \\ln{3} + \\frac{1}{2} \\ln{1} = 0.55\n",
    "$$\n",
    "\n",
    "因此，消费者B的期望效用提高了 0.04 。"
   ]
  },
  {
   "cell_type": "code",
   "execution_count": 1,
   "metadata": {},
   "outputs": [
    {
     "name": "stdout",
     "output_type": "stream",
     "text": [
      "The maximum utility of A is 0.73, and the original utility is 0.69.\n",
      "The maximum utility of B is 0.59, and the original utility is 0.55.\n"
     ]
    }
   ],
   "source": [
    "import numpy as np\n",
    "\n",
    "## customer A\n",
    "UA = lambda c: np.log(c).mean()\n",
    "CA = np.array([8/3, 8/5])\n",
    "CAp= np.array([2, 2])\n",
    "\n",
    "## customer B\n",
    "UB = lambda c: np.log(c).mean()\n",
    "CB = np.array([7/3, 7/5])\n",
    "CBp= np.array([3, 1])\n",
    "\n",
    "print(f\"The maximum utility of A is {UA(CA):.2f}, and the original utility is {UA(CAp):.2f}.\")\n",
    "print(f\"The maximum utility of B is {UB(CB):.2f}, and the original utility is {UB(CBp):.2f}.\")"
   ]
  },
  {
   "cell_type": "markdown",
   "metadata": {},
   "source": [
    "(c) 消费者A会愿意为B提供保险。这是因为在上一问中已经证明A可以通过增加自身消费的波动性来提升自己的期望效用。"
   ]
  },
  {
   "cell_type": "markdown",
   "metadata": {},
   "source": [
    "## Q11.2"
   ]
  },
  {
   "cell_type": "markdown",
   "metadata": {},
   "source": [
    "(a) 类似于上一题，同样构造两个消费者的优化问题\n",
    "\n",
    "$$\n",
    "\\begin{aligned}\n",
    "\\max_{c_{A, 1}, c_{A, 2}} \\ \\ \\ &\\frac{1}{3} \\ln{c_{A, 1}} + \\frac{2}{3} \\ln{c_{A, 2}} \\\\\n",
    "\\text{s.t.} \\ \\ \\ &\\varphi_1 c_{A, 1} + \\varphi_2 c_{A, 2} = 2 \\varphi_1 + 2 \\varphi_2\n",
    "\\end{aligned}\n",
    "$$\n",
    "\n",
    "$$\n",
    "\\begin{aligned}\n",
    "\\max_{c_{B, 1}, c_{B, 2}} \\ \\ \\ &\\frac{2}{3} \\ln{c_{B, 1}} + \\frac{1}{3} \\ln{c_{B, 2}} \\\\\n",
    "\\text{s.t.} \\ \\ \\ &\\varphi_1 c_{B, 1} + \\varphi_2 c_{B, 2} = 2 \\varphi_1 + 2 \\varphi_2\n",
    "\\end{aligned}\n",
    "$$\n",
    "\n",
    "求解得到消费者的消费为\n",
    "\n",
    "$$\n",
    "\\begin{cases}\n",
    "c_{A, 1} &= \\frac{2}{3} \\frac{\\varphi_1 + \\varphi_2}{\\varphi_1} \\\\\n",
    "c_{A, 2} &= \\frac{4}{3} \\frac{\\varphi_1 + \\varphi_2}{\\varphi_2}\n",
    "\\end{cases}\n",
    ", \\ \\ \\\n",
    "\\begin{cases}\n",
    "c_{B, 1} &= \\frac{4}{3} \\frac{\\varphi_1 + \\varphi_2}{\\varphi_1} \\\\\n",
    "c_{B, 2} &= \\frac{2}{3} \\frac{\\varphi_1 + \\varphi_2}{\\varphi_2}\n",
    "\\end{cases}\n",
    "$$\n",
    "\n",
    "带入市场出清条件\n",
    "\n",
    "$$\n",
    "\\begin{cases}\n",
    "4 &= c_{A, 1} + c_{B, 1} \\\\\n",
    "4 &= c_{A, 2} + c_{B, 2} \\\\\n",
    "\\end{cases}\n",
    "$$\n",
    "\n",
    "可以解得阿罗证券的价格满足\n",
    "\n",
    "$$\n",
    "\\varphi_1 = \\varphi_2\n",
    "$$\n",
    "\n",
    "由此可以得到消费者的消费为\n",
    "\n",
    "$$\n",
    "\\begin{cases}\n",
    "c_{A, 1} &= \\frac{4}{3} \\\\\n",
    "c_{A, 2} &= \\frac{8}{3} \\\\\n",
    "\\end{cases}\n",
    ", \\ \\ \\\n",
    "\\begin{cases}\n",
    "c_{B, 1} &= \\frac{8}{3} \\\\\n",
    "c_{B, 2} &= \\frac{4}{3}\\\\\n",
    "\\end{cases}\n",
    "$$"
   ]
  },
  {
   "cell_type": "markdown",
   "metadata": {},
   "source": [
    "(b) 显然两个消费者在两个状态之间的消费是存在差异的。这是因为他们对于未来的预期不同，导致他们各自的期望效用函数不相同。对于消费者A来说，他认为出现2状态的概率要高一些，因此会倾向于提升2状态的消费。而对于消费者B，他则倾向于提升1状态的消费。"
   ]
  }
 ],
 "metadata": {
  "kernelspec": {
   "display_name": "base",
   "language": "python",
   "name": "python3"
  },
  "language_info": {
   "codemirror_mode": {
    "name": "ipython",
    "version": 3
   },
   "file_extension": ".py",
   "mimetype": "text/x-python",
   "name": "python",
   "nbconvert_exporter": "python",
   "pygments_lexer": "ipython3",
   "version": "3.12.4"
  }
 },
 "nbformat": 4,
 "nbformat_minor": 2
}
