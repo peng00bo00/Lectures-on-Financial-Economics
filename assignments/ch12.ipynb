{
 "cells": [
  {
   "cell_type": "markdown",
   "metadata": {},
   "source": [
    "## Q12.1"
   ]
  },
  {
   "cell_type": "markdown",
   "metadata": {},
   "source": [
    "无法找到一个相对风险厌恶系数同时化解风险溢价之谜和无风险利率之谜。"
   ]
  },
  {
   "cell_type": "markdown",
   "metadata": {},
   "source": [
    "## Q12.2"
   ]
  },
  {
   "cell_type": "markdown",
   "metadata": {},
   "source": [
    "(a) 以消费者1为例，首先构造约束优化问题\n",
    "\n",
    "$$\n",
    "\\begin{aligned}\n",
    "\\max_{c_{1, 0}, c_{1, 1}, c_{1, 2}, c_{1, 3}} \\ \\ \\ &\\ln{c_{1, 0}} + 0.9 \\times \\bigg[ \\frac{1}{3} \\ln{c_{1, 1}} + \\frac{1}{3} \\ln{c_{1, 2}} + \\frac{1}{3} \\ln{c_{1, 3}} \\bigg] \\\\\n",
    "\\text{s.t.} \\ \\ \\ & c_{1, 0} + \\varphi_1 c_{1, 1} + \\varphi_2 c_{1, 2} + \\varphi_3 c_{1, 3} = 1 + 2 \\varphi_1 + \\varphi_3\n",
    "\\end{aligned}\n",
    "$$\n",
    "\n",
    "根据上式可以解出消费者1的消费为\n",
    "\n",
    "$$\n",
    "c_{1, 0} = \\frac{1 + 2 \\varphi_1 + \\varphi_3}{1.9}, \\ \\ \\ \n",
    "c_{1, 1} = \\frac{0.3}{\\varphi_1} \\frac{1 + 2 \\varphi_1 + \\varphi_3}{1.9}, \\ \\ \\ \n",
    "c_{1, 2} = \\frac{0.3}{\\varphi_2} \\frac{1 + 2 \\varphi_1 + \\varphi_3}{1.9}, \\ \\ \\ \n",
    "c_{1, 3} = \\frac{0.3}{\\varphi_3} \\frac{1 + 2 \\varphi_1 + \\varphi_3}{1.9}\n",
    "$$\n",
    "\n",
    "类似地，可以分别列出消费者2和消费者3的优化问题\n",
    "\n",
    "$$\n",
    "\\begin{aligned}\n",
    "\\max_{c_{2, 0}, c_{2, 1}, c_{2, 2}, c_{2, 3}} \\ \\ \\ &\\ln{c_{2, 0}} + 0.9 \\times \\bigg[ \\frac{1}{3} \\ln{c_{2, 1}} + \\frac{1}{3} \\ln{c_{2, 2}} + \\frac{1}{3} \\ln{c_{2, 3}} \\bigg] \\\\\n",
    "\\text{s.t.} \\ \\ \\ & c_{2, 0} + \\varphi_1 c_{2, 1} + \\varphi_2 c_{2, 2} + \\varphi_3 c_{2, 3} = 2 \\varphi_1 + \\varphi_2 + 2 \\varphi_3\n",
    "\\end{aligned}\n",
    "$$\n",
    "\n",
    "$$\n",
    "\\begin{aligned}\n",
    "\\max_{c_{3, 0}, c_{3, 1}, c_{3, 2}, c_{3, 3}} \\ \\ \\ &\\ln{c_{3, 0}} + 0.9 \\times \\bigg[ \\frac{1}{3} \\ln{c_{3, 1}} + \\frac{1}{3} \\ln{c_{3, 2}} + \\frac{1}{3} \\ln{c_{3, 3}} \\bigg] \\\\\n",
    "\\text{s.t.} \\ \\ \\ & c_{3, 0} + \\varphi_1 c_{3, 1} + \\varphi_2 c_{3, 2} + \\varphi_3 c_{3, 3} = 1 + \\varphi_2 + \\varphi_3\n",
    "\\end{aligned}\n",
    "$$\n",
    "\n",
    "对应的解为\n",
    "\n",
    "$$\n",
    "c_{2, 0} = \\frac{2 \\varphi_1 + \\varphi_2 + 2 \\varphi_3}{1.9}, \\ \\ \\ \n",
    "c_{2, 1} = \\frac{0.3}{\\varphi_1} \\frac{2 \\varphi_1 + \\varphi_2 + 2 \\varphi_3}{1.9}, \\ \\ \\ \n",
    "c_{2, 2} = \\frac{0.3}{\\varphi_2} \\frac{2 \\varphi_1 + \\varphi_2 + 2 \\varphi_3}{1.9}, \\ \\ \\ \n",
    "c_{2, 3} = \\frac{0.3}{\\varphi_3} \\frac{2 \\varphi_1 + \\varphi_2 + 2 \\varphi_3}{1.9}\n",
    "$$\n",
    "\n",
    "$$\n",
    "c_{3, 0} = \\frac{1 + \\varphi_2 + \\varphi_3}{1.9}, \\ \\ \\ \n",
    "c_{3, 1} = \\frac{0.3}{\\varphi_1} \\frac{1 + \\varphi_2 + \\varphi_3}{1.9}, \\ \\ \\ \n",
    "c_{3, 2} = \\frac{0.3}{\\varphi_2} \\frac{1 + \\varphi_2 + \\varphi_3}{1.9}, \\ \\ \\ \n",
    "c_{3, 3} = \\frac{0.3}{\\varphi_3} \\frac{1 + \\varphi_2 + \\varphi_3}{1.9}\n",
    "$$"
   ]
  },
  {
   "cell_type": "markdown",
   "metadata": {},
   "source": [
    "(b) 带入市场出清条件有\n",
    "\n",
    "$$\n",
    "\\begin{cases}\n",
    "2 &= c_{1, 0} + c_{2, 9} + c_{3, 0} \\\\\n",
    "4 &= c_{1, 1} + c_{2, 1} + c_{3, 1} \\\\\n",
    "2 &= c_{1, 2} + c_{2, 2} + c_{3, 2} \\\\\n",
    "4 &= c_{1, 3} + c_{2, 3} + c_{3, 3} \\\\\n",
    "\\end{cases}\n",
    "$$\n",
    "\n",
    "计算后得到阿罗证券的价格为\n",
    "\n",
    "$$\n",
    "\\varphi_1 = 0.15, \\ \\ \\ \\varphi_2 = 0.30, \\ \\ \\ \\varphi_2 = 0.15\n",
    "$$\n",
    "\n",
    "则聚宝盆A、聚宝盆B以及无风险资产的价格为\n",
    "\n",
    "$$\n",
    "\\begin{cases}\n",
    "p_A &= 2 \\varphi_1 + \\varphi_3 = 0.45 \\\\\n",
    "p_B &= \\varphi_2 + \\varphi_3 = 0.45 \\\\ \n",
    "p_f &= \\varphi_1 + \\varphi_2 + \\varphi_3 = 0.60 \\\\ \n",
    "\\end{cases}\n",
    "$$"
   ]
  },
  {
   "cell_type": "code",
   "execution_count": 1,
   "metadata": {},
   "outputs": [
    {
     "name": "stdout",
     "output_type": "stream",
     "text": [
      "The price of the Arrow-Debreu securities is: [0.15, 0.30, 0.15].\n",
      "The price of the Asset A is: p=0.45.\n",
      "The price of the Asset B is: p=0.45.\n",
      "The price of the risk-free asset is: p=0.60.\n"
     ]
    }
   ],
   "source": [
    "from scipy.optimize import root\n",
    "import numpy as np\n",
    "\n",
    "## customer 1\n",
    "c10 = lambda phi: (1 + 2 * phi[0] + phi[2]) / 1.9\n",
    "c11 = lambda phi: 0.3 * (1 + 2 * phi[0] + phi[2]) / (1.9 * phi[0])\n",
    "c12 = lambda phi: 0.3 * (1 + 2 * phi[0] + phi[2]) / (1.9 * phi[1])\n",
    "c13 = lambda phi: 0.3 * (1 + 2 * phi[0] + phi[2]) / (1.9 * phi[2])\n",
    "\n",
    "## customer 2\n",
    "c20 = lambda phi: (2 * phi[0] + phi[1] + 2 * phi[2]) / 1.9\n",
    "c21 = lambda phi: 0.3 * (2 * phi[0] + phi[1] + 2 * phi[2]) / (1.9 * phi[0])\n",
    "c22 = lambda phi: 0.3 * (2 * phi[0] + phi[1] + 2 * phi[2]) / (1.9 * phi[1])\n",
    "c23 = lambda phi: 0.3 * (2 * phi[0] + phi[1] + 2 * phi[2]) / (1.9 * phi[2])\n",
    "\n",
    "## customer 3\n",
    "c30 = lambda phi: (1 + phi[1] + phi[2]) / 1.9\n",
    "c31 = lambda phi: 0.3 * (1 + phi[1] + phi[2]) / (1.9 * phi[0])\n",
    "c32 = lambda phi: 0.3 * (1 + phi[1] + phi[2]) / (1.9 * phi[1])\n",
    "c33 = lambda phi: 0.3 * (1 + phi[1] + phi[2]) / (1.9 * phi[2])\n",
    "\n",
    "def MarketClear(phi):\n",
    "    \"\"\"Market clear condition.\n",
    "    \"\"\"\n",
    "\n",
    "    eq1 = c10(phi) + c20(phi) + c30(phi) - 2\n",
    "    eq2 = c11(phi) + c21(phi) + c31(phi) - 4\n",
    "    eq3 = c12(phi) + c22(phi) + c32(phi) - 2\n",
    "    eq4 = c13(phi) + c23(phi) + c33(phi) - 4\n",
    "\n",
    "    return np.array([eq1, eq2, eq3, eq4])\n",
    "\n",
    "x0 = np.ones(3)\n",
    "res = root(MarketClear, x0, method='lm')\n",
    "phi = res.x\n",
    "\n",
    "print(f\"The price of the Arrow-Debreu securities is: [{phi[0]:.2f}, {phi[1]:.2f}, {phi[2]:.2f}].\")\n",
    "print(f\"The price of the Asset A is: p={2 * phi[0] + phi[2]:.2f}.\")\n",
    "print(f\"The price of the Asset B is: p={phi[1] + phi[2]:.2f}.\")\n",
    "print(f\"The price of the risk-free asset is: p={phi.sum():.2f}.\")"
   ]
  },
  {
   "cell_type": "markdown",
   "metadata": {},
   "source": [
    "(c) 无风险利率为\n",
    "\n",
    "$$\n",
    "r_f = \\frac{1}{p_f} - 1 = 0.67\n",
    "$$\n",
    "\n",
    "而消费者的主观贴现率为\n",
    "\n",
    "$$\n",
    "\\rho = \\frac{1}{\\delta} - 1 = 0.11\n",
    "$$\n",
    "\n",
    "显然这二者是不一致的。这是因为无风险利率不仅取决于消费者的主观贴现率，还取决于经济增长。\n",
    "\n",
    "$$\n",
    "r_f \\approx \\rho + \\gamma \\bar{g}\n",
    "$$\n",
    "\n",
    "本例中消费者的主观贴现率$\\rho$以及经济增长项$\\gamma \\bar{g}$均为正，因此无风险利率为正。"
   ]
  }
 ],
 "metadata": {
  "kernelspec": {
   "display_name": "base",
   "language": "python",
   "name": "python3"
  },
  "language_info": {
   "codemirror_mode": {
    "name": "ipython",
    "version": 3
   },
   "file_extension": ".py",
   "mimetype": "text/x-python",
   "name": "python",
   "nbconvert_exporter": "python",
   "pygments_lexer": "ipython3",
   "version": "3.12.4"
  }
 },
 "nbformat": 4,
 "nbformat_minor": 2
}
