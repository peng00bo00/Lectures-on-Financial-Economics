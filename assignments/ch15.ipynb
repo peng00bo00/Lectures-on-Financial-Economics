{
 "cells": [
  {
   "cell_type": "markdown",
   "metadata": {},
   "source": [
    "## Q15.1"
   ]
  },
  {
   "cell_type": "markdown",
   "metadata": {},
   "source": [
    "根据C-CAPM理论，风险中性概率可以表示为\n",
    "\n",
    "$$\n",
    "q_s = \\frac{\\varphi_s}{\\sum_{s'=1}^S \\varphi_{s'}} = \\frac{\\delta \\pi_s \\frac{u'(c_{1, s})}{u'(c_{0})}}{\\sum_{s'=1}^S \\delta \\pi_{s'} \\frac{u'(c_{1, s'})}{u'(c_{0})}} = \\frac{\\pi_s u'(c_{1, s})}{\\sum_{s'=1}^S \\pi_{s'} u'(c_{1, s'})}\n",
    "$$\n",
    "\n",
    "从上式可以认为，风险中性概率$q_s$是对真实世界概率$\\pi_s$的调整，调整的权重是各个状态下的边际效用，使得边际效用高的状态拥有更大的概率。因此，风险中性概率是利用各个状态的边际效用来调整真实概率从而得到的概率。"
   ]
  },
  {
   "cell_type": "markdown",
   "metadata": {},
   "source": [
    "## Q15.2"
   ]
  },
  {
   "cell_type": "markdown",
   "metadata": {},
   "source": [
    "(a) 市场中不存在套利机会的充要条件为存在状态价格向量，此时A和B两种资产的价格可以表示为\n",
    "\n",
    "$$\n",
    "\\begin{cases}\n",
    "2 \\varphi_1 + \\varphi_2 &= 1 \\\\\n",
    "\\varphi_1 + 2 \\varphi_2 &= b \\\\\n",
    "\\end{cases}\n",
    "$$\n",
    "\n",
    "可以解得状态价格向量(阿罗证券)为\n",
    "\n",
    "$$\n",
    "\\varphi_1 = \\frac{2 - b}{3}, \\ \\ \\ \\varphi_1 = \\frac{2b - 1}{3}\n",
    "$$\n",
    "\n",
    "由于状态价格向量均为正，价格b需要满足不等式\n",
    "\n",
    "$$\n",
    "\\frac{1}{2} \\lt b \\lt 2\n",
    "$$"
   ]
  },
  {
   "cell_type": "markdown",
   "metadata": {},
   "source": [
    "(b) $b = \\frac{3}{2}$时，状态价格向量为\n",
    "\n",
    "$$\n",
    "\\mathbf{\\varphi} = \\bigg( \\frac{1}{6}, \\frac{2}{3} \\bigg)\n",
    "$$\n",
    "\n",
    "状态价格密度可以表示为\n",
    "\n",
    "$$\n",
    "m_1 = \\frac{q_1}{\\pi_1} = \\frac{1}{2}, \\ \\ \\ m_2 = \\frac{q_2}{\\pi_2} = 1\n",
    "$$\n",
    "\n",
    "风险中性概率可以表示为\n",
    "\n",
    "$$\n",
    "q_1 = \\frac{\\varphi_1}{\\varphi_1 + \\varphi_2} = \\frac{1}{5}, \\ \\ \\ q_2 = \\frac{\\varphi_2}{\\varphi_1 + \\varphi_2} = \\frac{4}{5}\n",
    "$$"
   ]
  }
 ],
 "metadata": {
  "language_info": {
   "name": "python"
  }
 },
 "nbformat": 4,
 "nbformat_minor": 2
}
