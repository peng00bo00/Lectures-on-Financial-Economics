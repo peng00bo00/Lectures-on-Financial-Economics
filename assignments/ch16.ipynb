{
 "cells": [
  {
   "cell_type": "markdown",
   "metadata": {},
   "source": [
    "## Q16.1"
   ]
  },
  {
   "cell_type": "markdown",
   "metadata": {},
   "source": [
    "这里定义一个二叉树来进行计算。通过递归可以计算出0时刻期权的价格为56。"
   ]
  },
  {
   "cell_type": "code",
   "execution_count": 1,
   "metadata": {},
   "outputs": [],
   "source": [
    "class Node:\n",
    "    \"\"\"A binary tree node.\n",
    "\n",
    "    Args:\n",
    "        stock: stock price at this node\n",
    "        u: up rate\n",
    "        d: down rate\n",
    "        er: risk-free rate of interest\n",
    "    \"\"\"\n",
    "    def __init__(self, stock, u, d, er):\n",
    "        self.stock  = stock\n",
    "        self.u      = u\n",
    "        self.d      = d\n",
    "        self.er     = er\n",
    "\n",
    "        self.parent = None      ## parent node\n",
    "        self.left   = None      ## left child node (the up branch)\n",
    "        self.right  = None      ## right child node (the down branch)\n",
    "    \n",
    "    def is_leaf(self):\n",
    "        return self.left == None and self.right == None\n",
    "    \n",
    "    @property\n",
    "    def q(self):\n",
    "        return (self.er - self.d) / (self.u - self.d)\n",
    "    \n",
    "    @property\n",
    "    def up_branch(self):\n",
    "        if self.left == None:\n",
    "            self.left = Node(self.stock * self.u, self.u, self.d, self.er)\n",
    "            self.left.parent = self\n",
    "        \n",
    "        return self.left\n",
    "    \n",
    "    @property\n",
    "    def down_branch(self):\n",
    "        if self.right == None:\n",
    "            self.right = Node(self.stock * self.d, self.u, self.d, self.er)\n",
    "            self.right.parent = self\n",
    "        \n",
    "        return self.right"
   ]
  },
  {
   "cell_type": "code",
   "execution_count": 2,
   "metadata": {},
   "outputs": [
    {
     "name": "stdout",
     "output_type": "stream",
     "text": [
      "The option price at t=0 is 56.00.\n"
     ]
    }
   ],
   "source": [
    "## information at t = 0\n",
    "stock = 100\n",
    "u = 2.0\n",
    "d = 0.5\n",
    "er = 1.25\n",
    "\n",
    "## initialize the binary tree structure\n",
    "## t = 0\n",
    "root = Node(stock, u, d, er)\n",
    "\n",
    "## t = 1\n",
    "t1 = [root.up_branch, root.down_branch]\n",
    "\n",
    "## t = 2\n",
    "t2 = []\n",
    "for node in t1:\n",
    "    t2.append(node.up_branch)\n",
    "    t2.append(node.down_branch)\n",
    "\n",
    "## option function\n",
    "def Option(node):\n",
    "    if node.is_leaf():\n",
    "        s2 = node.stock\n",
    "        s1 = node.parent.stock\n",
    "        s0 = node.parent.parent.stock\n",
    "\n",
    "        return max(s2 - min([s0, s1, s2]), 0)\n",
    "    \n",
    "    q  = node.q\n",
    "    er = node.er\n",
    "\n",
    "    return (q * Option(node.up_branch) + (1-q) * Option(node.down_branch)) / er\n",
    "\n",
    "\n",
    "print(f\"The option price at t=0 is {Option(root):.2f}.\")"
   ]
  }
 ],
 "metadata": {
  "kernelspec": {
   "display_name": "base",
   "language": "python",
   "name": "python3"
  },
  "language_info": {
   "codemirror_mode": {
    "name": "ipython",
    "version": 3
   },
   "file_extension": ".py",
   "mimetype": "text/x-python",
   "name": "python",
   "nbconvert_exporter": "python",
   "pygments_lexer": "ipython3",
   "version": "3.12.4"
  }
 },
 "nbformat": 4,
 "nbformat_minor": 2
}
