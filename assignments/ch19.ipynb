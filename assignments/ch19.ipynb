{
 "cells": [
  {
   "cell_type": "code",
   "execution_count": null,
   "metadata": {},
   "outputs": [],
   "source": []
  },
  {
   "cell_type": "markdown",
   "metadata": {},
   "source": [
    "## Q19.1"
   ]
  },
  {
   "cell_type": "markdown",
   "metadata": {},
   "source": [
    "(a) 资产组合的Delta、Gamma和Vega等于每份资产自身的Delta、Gamma和Vega按照头寸加权求和，因此有\n",
    "\n",
    "$$\n",
    "\\Delta \\Pi = \\sum_{i=1}^4 w_i \\Delta_i = -450\n",
    "$$\n",
    "\n",
    "$$\n",
    "\\Gamma \\Pi = \\sum_{i=1}^4 w_i \\Gamma_i = -6000\n",
    "$$\n",
    "\n",
    "$$\n",
    "\\nu \\Pi = \\sum_{i=1}^4 w_i \\nu_i = -4000\n",
    "$$"
   ]
  },
  {
   "cell_type": "markdown",
   "metadata": {},
   "source": [
    "(b) 上一问中已经求出了当前资产组合的Gamma为$\\Gamma = -6000$。要使资产成为Gamma中性则需要头寸$X$满足\n",
    "\n",
    "$$\n",
    "1.5 X - 6000 = 0\n",
    "$$\n",
    "\n",
    "解得$X = 4000$，即持有4000头寸的期权。此时资产组合的Delta为\n",
    "\n",
    "$$\n",
    "\\Delta \\Pi' = -450 + 0.6 X = 1950\n",
    "$$\n",
    "\n",
    "因此想要实现Delta中性还需要再卖空1950英镑。"
   ]
  },
  {
   "cell_type": "markdown",
   "metadata": {},
   "source": [
    "(c) 类似于上一问，当前Vega为$\\nu = -4000$。要使资产成为Vega中性则需要头寸$X$满足\n",
    "\n",
    "$$\n",
    "0.6 X - 4000 = 0\n",
    "$$\n",
    "\n",
    "解得$X = 6666.67$，即持有6666.67头寸的期权。此时资产组合的Delta为\n",
    "\n",
    "$$\n",
    "\\Delta \\Pi' = -450 + 0.6 X = 3350\n",
    "$$\n",
    "\n",
    "因此想要实现Delta中性还需要再卖空3350英镑。"
   ]
  },
  {
   "cell_type": "markdown",
   "metadata": {},
   "source": []
  }
 ],
 "metadata": {
  "language_info": {
   "name": "python"
  }
 },
 "nbformat": 4,
 "nbformat_minor": 2
}
