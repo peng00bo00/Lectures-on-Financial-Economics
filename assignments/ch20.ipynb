{
 "cells": [
  {
   "cell_type": "markdown",
   "metadata": {},
   "source": [
    "## Q20.1"
   ]
  },
  {
   "cell_type": "markdown",
   "metadata": {},
   "source": [
    "(a) 激励相容约束为\n",
    "\n",
    "$$\n",
    "(\\Delta p) R_b \\geq B I\n",
    "$$\n",
    "\n",
    "带入题目中的数据有\n",
    "\n",
    "$$\n",
    "(\\frac{3}{4} - \\frac{1}{2}) R_b \\geq 2\n",
    "$$\n",
    "\n",
    "解得\n",
    "\n",
    "$$\n",
    "R_b \\geq 8\n",
    "$$"
   ]
  },
  {
   "cell_type": "markdown",
   "metadata": {},
   "source": [
    "(b) 参与约束为\n",
    "\n",
    "$$\n",
    "p_H R_l \\geq I - A\n",
    "$$\n",
    "\n",
    "带入题目中的数据有\n",
    "\n",
    "$$\n",
    "\\frac{3}{4} R_l \\geq (10 - A)\n",
    "$$\n",
    "\n",
    "解得\n",
    "\n",
    "$$\n",
    "R_l \\geq \\frac{4}{3} (10 - A)\n",
    "$$\n",
    "\n",
    "在完全竞争情况下上式取等号\n",
    "\n",
    "$$\n",
    "R_l = \\frac{4}{3} (10 - A)\n",
    "$$"
   ]
  },
  {
   "cell_type": "markdown",
   "metadata": {},
   "source": [
    "(c) $R_l$和$R_b$需要满足条件\n",
    "\n",
    "$$\n",
    "R_l + R_b = RI = 16\n",
    "$$\n",
    "\n",
    "可以解得\n",
    "\n",
    "$$\n",
    "A \\geq 4\n",
    "$$"
   ]
  }
 ],
 "metadata": {
  "language_info": {
   "name": "python"
  }
 },
 "nbformat": 4,
 "nbformat_minor": 2
}
