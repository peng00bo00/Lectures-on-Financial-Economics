{
 "cells": [
  {
   "cell_type": "markdown",
   "metadata": {},
   "source": [
    "# Q22.1"
   ]
  },
  {
   "cell_type": "markdown",
   "metadata": {},
   "source": [
    "互联网不会让金融中介消失。按照课本上的说法，即使信息的流动因为互联网的存在而变得非常便捷，流动性与长期稳定资金供给之间的矛盾仍然会存在，并且需要金融中介构造资金池来发挥期限转换的功能。从这个角度看，互联网不会导致金融中介的消失。"
   ]
  },
  {
   "cell_type": "markdown",
   "metadata": {},
   "source": []
  }
 ],
 "metadata": {
  "language_info": {
   "name": "python"
  }
 },
 "nbformat": 4,
 "nbformat_minor": 2
}
