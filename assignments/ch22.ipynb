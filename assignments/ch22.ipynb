{
 "cells": [
  {
   "cell_type": "markdown",
   "metadata": {},
   "source": [
    "# Q22.1"
   ]
  },
  {
   "cell_type": "markdown",
   "metadata": {},
   "source": [
    "互联网不会让金融中介消失。按照课本上的说法，即使信息的流动因为互联网的存在而变得非常便捷，流动性与长期稳定资金供给之间的矛盾仍然会存在，并且需要金融中介构造资金池来发挥期限转换的功能。从这个角度看，互联网不会导致金融中介的消失。"
   ]
  },
  {
   "cell_type": "markdown",
   "metadata": {},
   "source": [
    "# Q22.2"
   ]
  },
  {
   "cell_type": "markdown",
   "metadata": {},
   "source": [
    "(a) 假设消费者在0时刻投资在短期资产上的禀赋比例为$\\theta$，则消费者在1时刻和2时刻的消费分别为\n",
    "\n",
    "$$\n",
    "\\begin{cases}\n",
    "c_1 &= \\theta + (1 - \\theta) r \\\\\n",
    "c_2 &= \\theta + (1 - \\theta) R\n",
    "\\end{cases}\n",
    "$$\n",
    "\n",
    "在这种情况下，消费者0时刻的期望效用为\n",
    "\n",
    "$$\n",
    "\\begin{aligned}\n",
    "EU (\\theta) &= \\lambda u(c_1) + (1 - \\lambda) u (c_2) \\\\\n",
    "&= \\lambda u \\big( \\theta + (1 - \\theta) r \\big) + (1 - \\lambda) u \\big( \\theta + (1 - \\theta) R \\big)\n",
    "\\end{aligned}\n",
    "$$\n",
    "\n",
    "在内点解上，$\\theta$的最优值满足\n",
    "\n",
    "$$\n",
    "\\lambda (1 - r) u'(c_1^{ATK}) = (1 - \\lambda) (R - 1) u'(c_1^{ATK})\n",
    "$$\n",
    "\n",
    "记$\\theta^{ATK}$为满足上式的解，将其带入消费者的期望效用函数可以得到自给自足情况下的期望效用$EU^{ATK}$。"
   ]
  },
  {
   "cell_type": "markdown",
   "metadata": {},
   "source": [
    "(b) 假设经济中有总量为$N$的消费者，且$N$足够大能够保证大数定律生效。则在这种情况下经济中包含$\\lambda N$的前期消费者和$(1 - \\lambda) N$的后期消费者，1时刻和2时刻的消费品禀赋满足约束\n",
    "\n",
    "$$\n",
    "\\begin{cases}\n",
    "\\lambda N c_1 &= \\theta N \\\\\n",
    "(1 - \\lambda) N c_2 &= (1 - \\theta) N R\n",
    "\\end{cases}\n",
    "$$\n",
    "\n",
    "上式中$\\theta$为中央计划者将所有消费者的禀赋投资在短期资产上的比例。在此约束条件下可以构造出期望效用的约束优化问题\n",
    "\n",
    "$$\n",
    "\\begin{aligned}\n",
    "&\\max \\ &\\ \\ &\\lambda N u(c_1) + (1 - \\lambda) N u (c_2) \\\\\n",
    "&\\text{s.t.} \\ &\\ \\ &\\lambda c_1 = \\theta \\\\\n",
    "& \\ &\\ \\ &(1 - \\lambda) c_2 = (1 - \\theta) R\n",
    "\\end{aligned}\n",
    "$$\n",
    "\n",
    "代入等式约束条件并且约去消费者数量$N$可以得到\n",
    "\n",
    "$$\n",
    "\\max \\ \\ \\ \\lambda u \\bigg( \\frac{\\theta}{\\lambda} \\bigg) + (1 - \\lambda) u \\bigg( \\frac{(1 - \\theta) R}{1 - \\lambda} \\bigg)\n",
    "$$\n",
    "\n",
    "其一阶条件为\n",
    "\n",
    "$$\n",
    "u'(c_1^{BST}) = u'(c_2^{BST}) R\n",
    "$$\n",
    "\n",
    "记上式的解为$\\theta^{BST}$，将其带入期望效用函数可以得到存在中央计划者情况下的期望效用$EU^{BST}$。"
   ]
  },
  {
   "cell_type": "markdown",
   "metadata": {},
   "source": [
    "(c) 假设消费者在0时刻投资在短期资产上的禀赋比例为$\\theta$。在1时刻的资产交易市场上，容易得到以消费品为计价单位的长期资产价格为$p=r$。于是消费者在1时刻和2时刻的消费满足\n",
    "\n",
    "$$\n",
    "\\begin{cases}\n",
    "c_1 &= \\theta + (1 - \\theta) p = \\theta + (1 - \\theta) r \\\\\n",
    "c_2 &= (1 - \\theta + \\frac{\\theta}{p}) R = \\frac{R}{r} \\theta + (1 - \\theta) R\n",
    "\\end{cases}\n",
    "$$\n",
    "\n",
    "这样市场均衡下消费者的期望效用为\n",
    "\n",
    "$$\n",
    "\\begin{aligned}\n",
    "EU (\\theta) &= \\lambda u(c_1) + (1 - \\lambda) u (c_2) \\\\\n",
    "&= \\lambda u \\big( \\theta + (1 - \\theta) r \\big) + (1 - \\lambda) u \\big( \\frac{R}{r} \\theta + (1 - \\theta) R \\big)\n",
    "\\end{aligned}\n",
    "$$\n",
    "\n",
    "其一阶条件为\n",
    "\n",
    "$$\n",
    "\\lambda u'(c_1^{MKT}) = (\\lambda - 1) \\frac{R}{r} u'(c_1^{MKT})\n",
    "$$\n",
    "\n",
    "记上式的解为$\\theta^{MKT}$，将其带入期望效用函数可以得到市场均衡情况下的期望效用$EU^{MKT}$。"
   ]
  },
  {
   "cell_type": "markdown",
   "metadata": {},
   "source": [
    "(d) 如果既存在银行又存在市场，那么由于银行的存在前期消费者会在1时刻提款，而后期消费者则会在2时刻提款。这样银行就成为了中央计划者，即使存在市场也不会发生任何交易。此时消费者的期望效用仍然为$EU^{BST}$。"
   ]
  }
 ],
 "metadata": {
  "language_info": {
   "name": "python"
  }
 },
 "nbformat": 4,
 "nbformat_minor": 2
}
